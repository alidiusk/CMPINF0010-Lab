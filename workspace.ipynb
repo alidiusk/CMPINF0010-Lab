{
 "cells": [
  {
   "cell_type": "code",
   "execution_count": 3,
   "metadata": {},
   "outputs": [
    {
     "name": "stdin",
     "output_type": "stream",
     "text": [
      "Enter your name:  Simon\n",
      "What is your age (1-100) ?:  18\n"
     ]
    },
    {
     "name": "stdout",
     "output_type": "stream",
     "text": [
      "Simon! can I get your snap?\n"
     ]
    }
   ],
   "source": [
    "name = input(\"Enter your name: \")\n",
    "age = 0\n",
    "while age == 0:\n",
    "    try:\n",
    "        age = int(input(\"What is your age (1-100) ?: \"))\n",
    "        if age < 1 or age > 100:\n",
    "            age = 0\n",
    "    except:\n",
    "        print(\"Please enter a valid age!\")\n",
    "\n",
    "message = \"\"\n",
    "if age > 80:\n",
    "    message = \"you're still alive?\"\n",
    "elif age > 50:\n",
    "    message = \"give me some of your wisdom\"\n",
    "elif age > 30:\n",
    "    message = \"did you have a midlife crisis yet?\"\n",
    "elif age > 17:\n",
    "    message = \"can I get your snap?\"\n",
    "else:\n",
    "    message = \"you are a child, lol.\"\n",
    "\n",
    "name += \"!\"\n",
    "print(name, message)"
   ]
  }
 ],
 "metadata": {
  "kernelspec": {
   "display_name": "Python 3",
   "language": "python",
   "name": "python3"
  },
  "language_info": {
   "codemirror_mode": {
    "name": "ipython",
    "version": 3
   },
   "file_extension": ".py",
   "mimetype": "text/x-python",
   "name": "python",
   "nbconvert_exporter": "python",
   "pygments_lexer": "ipython3",
   "version": "3.8.3"
  }
 },
 "nbformat": 4,
 "nbformat_minor": 4
}
